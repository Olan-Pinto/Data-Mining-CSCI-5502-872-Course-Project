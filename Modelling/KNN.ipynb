{
 "cells": [
  {
   "cell_type": "code",
   "execution_count": 1,
   "metadata": {},
   "outputs": [],
   "source": [
    "import pandas as pd\n",
    "import numpy as np\n",
    "\n",
    "from sklearn.pipeline import Pipeline  #pipeline class from sklearn allows us to sequentially apply a series of transformations\n",
    "from sklearn.preprocessing import StandardScaler #helps us to normalize features that have different scales by removing the mean and scaling to unit variance.\n",
    "from sklearn.compose import ColumnTransformer #used when we have a mixture of numerical and categorical data, and to apply different transformation to different columns\n",
    "\n"
   ]
  },
  {
   "cell_type": "code",
   "execution_count": 2,
   "metadata": {},
   "outputs": [],
   "source": [
    "df=pd.read_csv(\"C:/Users/kavir/OneDrive/Documents/GitHub/Data-Mining-CSCI-5502-872-Course-Project/datasets/training_df_raw.csv\")\n"
   ]
  },
  {
   "cell_type": "code",
   "execution_count": 3,
   "metadata": {},
   "outputs": [],
   "source": [
    "df.fillna(0,inplace=True)\n",
    "df.drop(['date','time'],axis=1,inplace=True)"
   ]
  },
  {
   "cell_type": "code",
   "execution_count": 4,
   "metadata": {},
   "outputs": [
    {
     "data": {
      "text/html": [
       "<div>\n",
       "<style scoped>\n",
       "    .dataframe tbody tr th:only-of-type {\n",
       "        vertical-align: middle;\n",
       "    }\n",
       "\n",
       "    .dataframe tbody tr th {\n",
       "        vertical-align: top;\n",
       "    }\n",
       "\n",
       "    .dataframe thead th {\n",
       "        text-align: right;\n",
       "    }\n",
       "</style>\n",
       "<table border=\"1\" class=\"dataframe\">\n",
       "  <thead>\n",
       "    <tr style=\"text-align: right;\">\n",
       "      <th></th>\n",
       "      <th>temperature_2m</th>\n",
       "      <th>relative_humidity_2m</th>\n",
       "      <th>dew_point_2m</th>\n",
       "      <th>apparent_temperature</th>\n",
       "      <th>precipitation</th>\n",
       "      <th>rain</th>\n",
       "      <th>snowfall</th>\n",
       "      <th>snow_depth</th>\n",
       "      <th>weather_code</th>\n",
       "      <th>pressure_msl</th>\n",
       "      <th>...</th>\n",
       "      <th>wind_gusts_10m</th>\n",
       "      <th>soil_temperature_0_to_7cm</th>\n",
       "      <th>soil_temperature_7_to_28cm</th>\n",
       "      <th>soil_temperature_28_to_100cm</th>\n",
       "      <th>soil_temperature_100_to_255cm</th>\n",
       "      <th>soil_moisture_0_to_7cm</th>\n",
       "      <th>soil_moisture_7_to_28cm</th>\n",
       "      <th>soil_moisture_28_to_100cm</th>\n",
       "      <th>soil_moisture_100_to_255cm</th>\n",
       "      <th>fire</th>\n",
       "    </tr>\n",
       "  </thead>\n",
       "  <tbody>\n",
       "    <tr>\n",
       "      <th>0</th>\n",
       "      <td>10.4600</td>\n",
       "      <td>95.42882</td>\n",
       "      <td>9.7600</td>\n",
       "      <td>9.326071</td>\n",
       "      <td>0.0</td>\n",
       "      <td>0.0</td>\n",
       "      <td>0.0</td>\n",
       "      <td>0.0</td>\n",
       "      <td>0.0</td>\n",
       "      <td>1012.4</td>\n",
       "      <td>...</td>\n",
       "      <td>11.879999</td>\n",
       "      <td>10.7600</td>\n",
       "      <td>13.110001</td>\n",
       "      <td>14.0100</td>\n",
       "      <td>21.910000</td>\n",
       "      <td>0.275</td>\n",
       "      <td>0.318</td>\n",
       "      <td>0.195</td>\n",
       "      <td>0.026</td>\n",
       "      <td>1</td>\n",
       "    </tr>\n",
       "    <tr>\n",
       "      <th>1</th>\n",
       "      <td>10.4535</td>\n",
       "      <td>95.42859</td>\n",
       "      <td>9.7535</td>\n",
       "      <td>9.317741</td>\n",
       "      <td>0.0</td>\n",
       "      <td>0.0</td>\n",
       "      <td>0.0</td>\n",
       "      <td>0.0</td>\n",
       "      <td>0.0</td>\n",
       "      <td>1012.4</td>\n",
       "      <td>...</td>\n",
       "      <td>11.879999</td>\n",
       "      <td>10.7535</td>\n",
       "      <td>13.103500</td>\n",
       "      <td>14.0035</td>\n",
       "      <td>21.903500</td>\n",
       "      <td>0.275</td>\n",
       "      <td>0.318</td>\n",
       "      <td>0.195</td>\n",
       "      <td>0.026</td>\n",
       "      <td>1</td>\n",
       "    </tr>\n",
       "    <tr>\n",
       "      <th>2</th>\n",
       "      <td>10.4145</td>\n",
       "      <td>95.42721</td>\n",
       "      <td>9.7145</td>\n",
       "      <td>9.267784</td>\n",
       "      <td>0.0</td>\n",
       "      <td>0.0</td>\n",
       "      <td>0.0</td>\n",
       "      <td>0.0</td>\n",
       "      <td>0.0</td>\n",
       "      <td>1012.4</td>\n",
       "      <td>...</td>\n",
       "      <td>11.879999</td>\n",
       "      <td>10.7145</td>\n",
       "      <td>13.064501</td>\n",
       "      <td>13.9645</td>\n",
       "      <td>21.864500</td>\n",
       "      <td>0.275</td>\n",
       "      <td>0.318</td>\n",
       "      <td>0.195</td>\n",
       "      <td>0.026</td>\n",
       "      <td>1</td>\n",
       "    </tr>\n",
       "    <tr>\n",
       "      <th>3</th>\n",
       "      <td>9.2235</td>\n",
       "      <td>99.66392</td>\n",
       "      <td>9.1735</td>\n",
       "      <td>8.143780</td>\n",
       "      <td>0.0</td>\n",
       "      <td>0.0</td>\n",
       "      <td>0.0</td>\n",
       "      <td>0.0</td>\n",
       "      <td>0.0</td>\n",
       "      <td>1012.5</td>\n",
       "      <td>...</td>\n",
       "      <td>13.320000</td>\n",
       "      <td>10.4235</td>\n",
       "      <td>12.823500</td>\n",
       "      <td>13.7235</td>\n",
       "      <td>21.923500</td>\n",
       "      <td>0.273</td>\n",
       "      <td>0.324</td>\n",
       "      <td>0.201</td>\n",
       "      <td>0.020</td>\n",
       "      <td>1</td>\n",
       "    </tr>\n",
       "    <tr>\n",
       "      <th>4</th>\n",
       "      <td>9.2430</td>\n",
       "      <td>99.66399</td>\n",
       "      <td>9.1930</td>\n",
       "      <td>8.168585</td>\n",
       "      <td>0.0</td>\n",
       "      <td>0.0</td>\n",
       "      <td>0.0</td>\n",
       "      <td>0.0</td>\n",
       "      <td>0.0</td>\n",
       "      <td>1012.5</td>\n",
       "      <td>...</td>\n",
       "      <td>13.320000</td>\n",
       "      <td>10.4430</td>\n",
       "      <td>12.842999</td>\n",
       "      <td>13.7430</td>\n",
       "      <td>21.942999</td>\n",
       "      <td>0.273</td>\n",
       "      <td>0.324</td>\n",
       "      <td>0.201</td>\n",
       "      <td>0.020</td>\n",
       "      <td>1</td>\n",
       "    </tr>\n",
       "  </tbody>\n",
       "</table>\n",
       "<p>5 rows × 31 columns</p>\n",
       "</div>"
      ],
      "text/plain": [
       "   temperature_2m  relative_humidity_2m  dew_point_2m  apparent_temperature  \\\n",
       "0         10.4600              95.42882        9.7600              9.326071   \n",
       "1         10.4535              95.42859        9.7535              9.317741   \n",
       "2         10.4145              95.42721        9.7145              9.267784   \n",
       "3          9.2235              99.66392        9.1735              8.143780   \n",
       "4          9.2430              99.66399        9.1930              8.168585   \n",
       "\n",
       "   precipitation  rain  snowfall  snow_depth  weather_code  pressure_msl  ...  \\\n",
       "0            0.0   0.0       0.0         0.0           0.0        1012.4  ...   \n",
       "1            0.0   0.0       0.0         0.0           0.0        1012.4  ...   \n",
       "2            0.0   0.0       0.0         0.0           0.0        1012.4  ...   \n",
       "3            0.0   0.0       0.0         0.0           0.0        1012.5  ...   \n",
       "4            0.0   0.0       0.0         0.0           0.0        1012.5  ...   \n",
       "\n",
       "   wind_gusts_10m  soil_temperature_0_to_7cm  soil_temperature_7_to_28cm  \\\n",
       "0       11.879999                    10.7600                   13.110001   \n",
       "1       11.879999                    10.7535                   13.103500   \n",
       "2       11.879999                    10.7145                   13.064501   \n",
       "3       13.320000                    10.4235                   12.823500   \n",
       "4       13.320000                    10.4430                   12.842999   \n",
       "\n",
       "   soil_temperature_28_to_100cm  soil_temperature_100_to_255cm  \\\n",
       "0                       14.0100                      21.910000   \n",
       "1                       14.0035                      21.903500   \n",
       "2                       13.9645                      21.864500   \n",
       "3                       13.7235                      21.923500   \n",
       "4                       13.7430                      21.942999   \n",
       "\n",
       "   soil_moisture_0_to_7cm  soil_moisture_7_to_28cm  soil_moisture_28_to_100cm  \\\n",
       "0                   0.275                    0.318                      0.195   \n",
       "1                   0.275                    0.318                      0.195   \n",
       "2                   0.275                    0.318                      0.195   \n",
       "3                   0.273                    0.324                      0.201   \n",
       "4                   0.273                    0.324                      0.201   \n",
       "\n",
       "   soil_moisture_100_to_255cm  fire  \n",
       "0                       0.026     1  \n",
       "1                       0.026     1  \n",
       "2                       0.026     1  \n",
       "3                       0.020     1  \n",
       "4                       0.020     1  \n",
       "\n",
       "[5 rows x 31 columns]"
      ]
     },
     "execution_count": 4,
     "metadata": {},
     "output_type": "execute_result"
    }
   ],
   "source": [
    "df.head()"
   ]
  },
  {
   "cell_type": "code",
   "execution_count": 5,
   "metadata": {},
   "outputs": [
    {
     "data": {
      "text/plain": [
       "(113896, 31)"
      ]
     },
     "execution_count": 5,
     "metadata": {},
     "output_type": "execute_result"
    }
   ],
   "source": [
    "df.shape"
   ]
  },
  {
   "cell_type": "code",
   "execution_count": 6,
   "metadata": {},
   "outputs": [],
   "source": [
    "X=df.drop('fire',axis=1)\n",
    "y=df['fire']"
   ]
  },
  {
   "cell_type": "code",
   "execution_count": 7,
   "metadata": {},
   "outputs": [],
   "source": [
    "def feature_transformation(encode_df):\n",
    "    num_attributes = encode_df.columns.to_list()\n",
    "    numeric_pipeline = Pipeline([('std_scaler', StandardScaler())])\n",
    "    encoder_pipeline = ColumnTransformer([(\"numeric_var\", numeric_pipeline, num_attributes)])\n",
    "    df_encoded = encoder_pipeline.fit_transform(encode_df)\n",
    "    return df_encoded, encoder_pipeline\n",
    "\n",
    "X_transformed, encoder_pipeline = feature_transformation(X)"
   ]
  },
  {
   "cell_type": "code",
   "execution_count": 8,
   "metadata": {},
   "outputs": [],
   "source": [
    "from sklearn.model_selection import train_test_split\n",
    "X_train,X_test,y_train,y_test=train_test_split(X,y,test_size=0.2,random_state=42)"
   ]
  },
  {
   "cell_type": "code",
   "execution_count": null,
   "metadata": {},
   "outputs": [
    {
     "name": "stdout",
     "output_type": "stream",
     "text": [
      "KNN: Mean Accuracy = 0.7282, Std Dev = 0.0041\n"
     ]
    }
   ],
   "source": [
    "#KNN\n",
    "\n",
    "from sklearn.neighbors import KNeighborsClassifier\n",
    "from sklearn.model_selection import cross_val_score, KFold\n",
    "\n",
    "# Initialize KNN with default parameters\n",
    "knn = KNeighborsClassifier(n_jobs=-1)\n",
    "\n",
    "# K-Fold Cross Validation\n",
    "kf = KFold(n_splits=5, shuffle=True, random_state=42)\n",
    "knn_scores = cross_val_score(knn, X_train, y_train, cv=kf, scoring='accuracy')\n",
    "\n",
    "print(f\"KNN: Mean Accuracy = {np.mean(knn_scores):.4f}, Std Dev = {np.std(knn_scores):.4f}\")\n"
   ]
  },
  {
   "cell_type": "code",
   "execution_count": null,
   "metadata": {},
   "outputs": [
    {
     "name": "stdout",
     "output_type": "stream",
     "text": [
      "Naive Bayes: Mean Accuracy = 0.5432, Std Dev = 0.0163\n"
     ]
    }
   ],
   "source": [
    "#NB\n",
    "\n",
    "from sklearn.naive_bayes import GaussianNB\n",
    "\n",
    "# Initialize Naive Bayes model\n",
    "nb = GaussianNB()\n",
    "\n",
    "# K-Fold Cross Validation\n",
    "nb_scores = cross_val_score(nb, X_train, y_train, cv=kf, scoring='accuracy')\n",
    "\n",
    "print(f\"Naive Bayes: Mean Accuracy = {np.mean(nb_scores):.4f}, Std Dev = {np.std(nb_scores):.4f}\")\n"
   ]
  },
  {
   "cell_type": "code",
   "execution_count": 11,
   "metadata": {},
   "outputs": [
    {
     "name": "stdout",
     "output_type": "stream",
     "text": [
      "Requirement already satisfied: scikit-optimize in c:\\users\\kavir\\anaconda3\\envs\\rissi_envi\\lib\\site-packages (0.10.2)\n",
      "Requirement already satisfied: joblib>=0.11 in c:\\users\\kavir\\anaconda3\\envs\\rissi_envi\\lib\\site-packages (from scikit-optimize) (1.4.2)\n",
      "Requirement already satisfied: pyaml>=16.9 in c:\\users\\kavir\\anaconda3\\envs\\rissi_envi\\lib\\site-packages (from scikit-optimize) (24.9.0)\n",
      "Requirement already satisfied: numpy>=1.20.3 in c:\\users\\kavir\\anaconda3\\envs\\rissi_envi\\lib\\site-packages (from scikit-optimize) (2.1.2)\n",
      "Requirement already satisfied: scipy>=1.1.0 in c:\\users\\kavir\\anaconda3\\envs\\rissi_envi\\lib\\site-packages (from scikit-optimize) (1.14.1)\n",
      "Requirement already satisfied: scikit-learn>=1.0.0 in c:\\users\\kavir\\anaconda3\\envs\\rissi_envi\\lib\\site-packages (from scikit-optimize) (1.5.2)\n",
      "Requirement already satisfied: packaging>=21.3 in c:\\users\\kavir\\anaconda3\\envs\\rissi_envi\\lib\\site-packages (from scikit-optimize) (24.1)\n",
      "Requirement already satisfied: PyYAML in c:\\users\\kavir\\anaconda3\\envs\\rissi_envi\\lib\\site-packages (from pyaml>=16.9->scikit-optimize) (6.0.1)\n",
      "Requirement already satisfied: threadpoolctl>=3.1.0 in c:\\users\\kavir\\anaconda3\\envs\\rissi_envi\\lib\\site-packages (from scikit-learn>=1.0.0->scikit-optimize) (3.5.0)\n",
      "Note: you may need to restart the kernel to use updated packages.\n"
     ]
    }
   ],
   "source": [
    "pip install scikit-optimize\n"
   ]
  },
  {
   "cell_type": "code",
   "execution_count": 12,
   "metadata": {},
   "outputs": [
    {
     "name": "stderr",
     "output_type": "stream",
     "text": [
      "c:\\Users\\kavir\\anaconda3\\envs\\rissi_envi\\Lib\\site-packages\\numpy\\ma\\core.py:2881: RuntimeWarning: invalid value encountered in cast\n",
      "  _data = np.array(data, dtype=dtype, copy=copy,\n",
      "c:\\Users\\kavir\\anaconda3\\envs\\rissi_envi\\Lib\\site-packages\\skopt\\optimizer\\optimizer.py:517: UserWarning: The objective has been evaluated at point [np.str_('manhattan'), np.int64(1), np.str_('distance')] before, using random point ['euclidean', np.int64(6), 'uniform']\n",
      "  warnings.warn(\n",
      "c:\\Users\\kavir\\anaconda3\\envs\\rissi_envi\\Lib\\site-packages\\skopt\\optimizer\\optimizer.py:517: UserWarning: The objective has been evaluated at point [np.str_('manhattan'), np.int64(1), np.str_('distance')] before, using random point ['euclidean', np.int64(10), 'distance']\n",
      "  warnings.warn(\n"
     ]
    },
    {
     "name": "stdout",
     "output_type": "stream",
     "text": [
      "Best parameters for KNN (Bayesian Optimization): OrderedDict({'metric': 'manhattan', 'n_neighbors': 5, 'weights': 'distance'})\n",
      "Best KNN score (Bayesian Optimization): 0.7728280144769726\n"
     ]
    }
   ],
   "source": [
    "from skopt import BayesSearchCV\n",
    "from sklearn.neighbors import KNeighborsClassifier\n",
    "\n",
    "# Define the search space for KNN\n",
    "param_space_knn = {\n",
    "    'n_neighbors': (1, 15),                  # Range for n_neighbors\n",
    "    'weights': ['uniform', 'distance'],      # Weight function\n",
    "    'metric': ['euclidean', 'manhattan', 'minkowski']  # Distance metric\n",
    "}\n",
    "\n",
    "# Bayesian Optimization with KNN\n",
    "bayes_search_knn = BayesSearchCV(\n",
    "    estimator=KNeighborsClassifier(n_jobs=-1),\n",
    "    search_spaces=param_space_knn,\n",
    "    n_iter=32,                              # Number of evaluations\n",
    "    cv=5,                                   # Cross-validation\n",
    "    scoring='accuracy',\n",
    "    n_jobs=-1,\n",
    "    random_state=42\n",
    ")\n",
    "\n",
    "# Fit the model\n",
    "bayes_search_knn.fit(X_train, y_train)\n",
    "\n",
    "# Best parameters and score\n",
    "print(\"Best parameters for KNN (Bayesian Optimization):\", bayes_search_knn.best_params_)\n",
    "print(\"Best KNN score (Bayesian Optimization):\", bayes_search_knn.best_score_)\n"
   ]
  },
  {
   "cell_type": "code",
   "execution_count": 13,
   "metadata": {},
   "outputs": [
    {
     "name": "stdout",
     "output_type": "stream",
     "text": [
      "Best parameters for Naive Bayes (Bayesian Optimization): OrderedDict({'var_smoothing': 1.8720990397640835e-07})\n",
      "Best Naive Bayes score (Bayesian Optimization): 0.5660585841769008\n"
     ]
    }
   ],
   "source": [
    "from skopt import BayesSearchCV\n",
    "from sklearn.naive_bayes import GaussianNB\n",
    "\n",
    "# Define the search space for Naive Bayes (smoothing parameter)\n",
    "param_space_nb = {\n",
    "    'var_smoothing': (1e-9, 1e-5, 'log-uniform')  # Log-uniform search for variance smoothing\n",
    "}\n",
    "\n",
    "# Bayesian Optimization with Naive Bayes\n",
    "bayes_search_nb = BayesSearchCV(\n",
    "    estimator=GaussianNB(),\n",
    "    search_spaces=param_space_nb,\n",
    "    n_iter=32,                               # Number of evaluations\n",
    "    cv=5,                                    # Cross-validation\n",
    "    scoring='accuracy',\n",
    "    n_jobs=-1,\n",
    "    random_state=42\n",
    ")\n",
    "\n",
    "# Fit the model\n",
    "bayes_search_nb.fit(X_train, y_train)\n",
    "\n",
    "# Best parameters and score\n",
    "print(\"Best parameters for Naive Bayes (Bayesian Optimization):\", bayes_search_nb.best_params_)\n",
    "print(\"Best Naive Bayes score (Bayesian Optimization):\", bayes_search_nb.best_score_)\n"
   ]
  },
  {
   "cell_type": "code",
   "execution_count": 14,
   "metadata": {},
   "outputs": [
    {
     "ename": "NameError",
     "evalue": "name 'knn_grid_search' is not defined",
     "output_type": "error",
     "traceback": [
      "\u001b[1;31m---------------------------------------------------------------------------\u001b[0m",
      "\u001b[1;31mNameError\u001b[0m                                 Traceback (most recent call last)",
      "Cell \u001b[1;32mIn[14], line 2\u001b[0m\n\u001b[0;32m      1\u001b[0m \u001b[38;5;66;03m# Retrain KNN with best parameters\u001b[39;00m\n\u001b[1;32m----> 2\u001b[0m best_knn \u001b[38;5;241m=\u001b[39m knn_grid_search\u001b[38;5;241m.\u001b[39mbest_estimator_\n\u001b[0;32m      3\u001b[0m best_knn\u001b[38;5;241m.\u001b[39mfit(X_train, y_train)\n\u001b[0;32m      5\u001b[0m \u001b[38;5;66;03m# Predictions and evaluation\u001b[39;00m\n",
      "\u001b[1;31mNameError\u001b[0m: name 'knn_grid_search' is not defined"
     ]
    }
   ],
   "source": [
    "# Retrain KNN with best parameters\n",
    "best_knn = knn_grid_search.best_estimator_\n",
    "best_knn.fit(X_train, y_train)\n",
    "\n",
    "# Predictions and evaluation\n",
    "from sklearn.metrics import classification_report, roc_auc_score, roc_curve, ConfusionMatrixDisplay, confusion_matrix\n",
    "import matplotlib.pyplot as plt\n",
    "\n",
    "y_pred_knn = best_knn.predict(X_test)\n",
    "y_scores_knn = best_knn.predict_proba(X_test)[:, 1]\n",
    "\n",
    "print(\"KNN Classification Report:\")\n",
    "print(classification_report(y_test, y_pred_knn))\n",
    "\n",
    "# Confusion Matrix\n",
    "conf_matrix_knn = confusion_matrix(y_test, y_pred_knn)\n",
    "ConfusionMatrixDisplay(confusion_matrix=conf_matrix_knn, display_labels=[0, 1]).plot(cmap=plt.cm.Blues)\n",
    "plt.title('KNN Confusion Matrix')\n",
    "plt.show()\n",
    "\n",
    "# ROC Curve\n",
    "auc_score_knn = roc_auc_score(y_test, y_scores_knn)\n",
    "fpr, tpr, _ = roc_curve(y_test, y_scores_knn)\n",
    "\n",
    "plt.plot(fpr, tpr, color='blue', label=f'KNN ROC curve (area = {auc_score_knn:.2f})')\n",
    "plt.plot([0, 1], [0, 1], color='red', linestyle='--')\n",
    "plt.xlabel('False Positive Rate')\n",
    "plt.ylabel('True Positive Rate')\n",
    "plt.title('KNN Receiver Operating Characteristic')\n",
    "plt.legend(loc='lower right')\n",
    "plt.show()\n"
   ]
  },
  {
   "cell_type": "code",
   "execution_count": null,
   "metadata": {},
   "outputs": [],
   "source": [
    "# Train Naive Bayes and evaluate\n",
    "nb.fit(X_train, y_train)\n",
    "y_pred_nb = nb.predict(X_test)\n",
    "y_scores_nb = nb.predict_proba(X_test)[:, 1]\n",
    "\n",
    "print(\"Naive Bayes Classification Report:\")\n",
    "print(classification_report(y_test, y_pred_nb))\n",
    "\n",
    "# Confusion Matrix\n",
    "conf_matrix_nb = confusion_matrix(y_test, y_pred_nb)\n",
    "ConfusionMatrixDisplay(confusion_matrix=conf_matrix_nb, display_labels=[0, 1]).plot(cmap=plt.cm.Blues)\n",
    "plt.title('Naive Bayes Confusion Matrix')\n",
    "plt.show()\n",
    "\n",
    "# ROC Curve\n",
    "auc_score_nb = roc_auc_score(y_test, y_scores_nb)\n",
    "fpr, tpr, _ = roc_curve(y_test, y_scores_nb)\n",
    "\n",
    "plt.plot(fpr, tpr, color='green', label=f'Naive Bayes ROC curve (area = {auc_score_nb:.2f})')\n",
    "plt.plot([0, 1], [0, 1], color='red', linestyle='--')\n",
    "plt.xlabel('False Positive Rate')\n",
    "plt.ylabel('True Positive Rate')\n",
    "plt.title('Naive Bayes Receiver Operating Characteristic')\n",
    "plt.legend(loc='lower right')\n",
    "plt.show()\n"
   ]
  }
 ],
 "metadata": {
  "kernelspec": {
   "display_name": "rissi_envi",
   "language": "python",
   "name": "python3"
  },
  "language_info": {
   "codemirror_mode": {
    "name": "ipython",
    "version": 3
   },
   "file_extension": ".py",
   "mimetype": "text/x-python",
   "name": "python",
   "nbconvert_exporter": "python",
   "pygments_lexer": "ipython3",
   "version": "3.12.4"
  }
 },
 "nbformat": 4,
 "nbformat_minor": 2
}
